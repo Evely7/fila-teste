{
 "cells": [
  {
   "cell_type": "markdown",
   "metadata": {},
   "source": [
    "# Implementação de Fila"
   ]
  },
  {
   "cell_type": "markdown",
   "metadata": {},
   "source": [
    "# Nó da fila"
   ]
  },
  {
   "cell_type": "code",
   "execution_count": 18,
   "metadata": {},
   "outputs": [],
   "source": [
    "class Node:\n",
    "    def __init__(self, value):\n",
    "        self.value = value\n",
    "        self.next = None"
   ]
  },
  {
   "cell_type": "markdown",
   "metadata": {},
   "source": [
    "# Fila"
   ]
  },
  {
   "cell_type": "code",
   "execution_count": 19,
   "metadata": {},
   "outputs": [],
   "source": [
    "class Queue:\n",
    "    def __init__(self):\n",
    "        self.front = None\n",
    "        self.rear = None\n",
    "    \n",
    "    # Inclusão de elementos na fila\n",
    "    def enqueue(self, value):\n",
    "        new_node = Node(value)\n",
    "\n",
    "        if self.front == None:\n",
    "            self.front = self.rear = new_node\n",
    "            return\n",
    "        self.rear.next = new_node\n",
    "        self.rear = new_node\n",
    "\n",
    "    # Remoção de elemnto da fila\n",
    "    def dequeue(self):\n",
    "        if self.front == None:\n",
    "            raise Exception(\"Queue is empty\")\n",
    "        temp = self.front\n",
    "        self.front = self.front.next\n",
    "        if self.front == None:\n",
    "            self.rear = None\n",
    "        return temp.value\n",
    "\n",
    "    # Acessa o primeiro elemento da fila\n",
    "    def peek(self):\n",
    "        if self.front == None:\n",
    "            raise Exception(\"Queue is empty\")\n",
    "        return self.front.value\n",
    "    \n",
    "    # Verifica se a fila está vazia\n",
    "    def is_empty(self):\n",
    "        return self.front == None\n",
    "\n",
    "    # Exibe a fila\n",
    "    def display_queue(self):\n",
    "        current = self.front\n",
    "        while current != None:\n",
    "            print(current.value, end=\" \")\n",
    "            current = current.next"
   ]
  },
  {
   "cell_type": "markdown",
   "metadata": {},
   "source": [
    "# Teste de uso da fila"
   ]
  },
  {
   "cell_type": "code",
   "execution_count": 26,
   "metadata": {},
   "outputs": [
    {
     "name": "stdout",
     "output_type": "stream",
     "text": [
      "5 6 "
     ]
    },
    {
     "data": {
      "text/plain": [
       "5"
      ]
     },
     "execution_count": 26,
     "metadata": {},
     "output_type": "execute_result"
    }
   ],
   "source": [
    "q =Queue()\n",
    "#Está sendo criado um novo objeto \"q\" da classe \"Queue\". A fila inicialmente estará vazia.\n",
    "\n",
    "q.enqueue(4)\n",
    "#Adiciona o elemento 4 à fila. O elemento 4 será colocado no final da fila.\n",
    "\n",
    "q.enqueue(5)\n",
    "# Adiciona o elemento 5 à fila. O elemento 5 será colocado atrás do elemento 4.\n",
    "\n",
    "q.enqueue(6)\n",
    "#Adiciona o elemento 6 à fila. O elemento 6 será colocado atrás do elemento 5.\n",
    "\n",
    "q.dequeue()\n",
    "# Remove o primeiro elemento da fila. O elemento 4 será removido da fila.\n",
    "\n",
    "q.display_queue()\n",
    "# Mostra todos os elementos na fila. Após a operação anterior, a fila agora deve conter os elementos 5 e 6.\n",
    "\n",
    "q.peek()\n",
    "# Retorna o primeiro elemento da fila sem removê-lo.\n",
    "\n",
    "\n",
    "\n"
   ]
  },
  {
   "cell_type": "code",
   "execution_count": 27,
   "metadata": {},
   "outputs": [
    {
     "data": {
      "text/plain": [
       "False"
      ]
     },
     "execution_count": 27,
     "metadata": {},
     "output_type": "execute_result"
    }
   ],
   "source": [
    "# Verifica se a fila está vazia. Retorna \"True\" se a fila não tiver elementos, caso contrário, \"False\".\n",
    "q.is_empty()\n"
   ]
  }
 ],
 "metadata": {
  "kernelspec": {
   "display_name": "Python 3",
   "language": "python",
   "name": "python3"
  },
  "language_info": {
   "codemirror_mode": {
    "name": "ipython",
    "version": 3
   },
   "file_extension": ".py",
   "mimetype": "text/x-python",
   "name": "python",
   "nbconvert_exporter": "python",
   "pygments_lexer": "ipython3",
   "version": "3.13.2"
  }
 },
 "nbformat": 4,
 "nbformat_minor": 2
}
